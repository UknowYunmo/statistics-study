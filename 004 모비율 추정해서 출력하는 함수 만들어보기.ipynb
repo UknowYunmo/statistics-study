{
 "cells": [
  {
   "cell_type": "code",
   "execution_count": 1,
   "metadata": {},
   "outputs": [
    {
     "name": "stdout",
     "output_type": "stream",
     "text": [
      "표본의 크기를 입력하세요 : 506\n",
      "표집된 표본의 확률을 입력하세요\n",
      "ex) 295/400, 0.4       : 400/506\n",
      "몇 %의 신뢰구간? (90, 95, 99만 가능합니다) : 90\n",
      "모비율의 추정 구간은 0.761 부터 0.820 이며 신뢰 구간은 90%, 오차 구간은 0.018 입니다.\n"
     ]
    }
   ],
   "source": [
    "\"\"\"\n",
    "저번에 만든 모평균 추정해서 출력하는 함수 만들어보기를 조금 바꿔서 만들어봤다\n",
    "\n",
    "표본수에 따라 z 검정, t 검정으로 나눌 필요가 없기 때문에\n",
    "\n",
    "저번보다 간단한 형태로 가능!\n",
    "\n",
    "대신 확률을 입력받을 때\n",
    "\n",
    "0.3 또는 4/5 같은 형식을 편하게 입력할 수 있도록\n",
    "\n",
    "조금 유연성을 줘봤다\n",
    "\n",
    "그리고 표본 오차까지 추가해서 출력하는 걸로 수정\n",
    "\n",
    "\"\"\"\n",
    "\n",
    "def final():\n",
    "    import math\n",
    "    n=int(input('표본의 크기를 입력하세요 : '))\n",
    "    p=input('표집된 표본의 확률을 입력하세요\\nex) 295/400, 0.4       : ')\n",
    "    temp=True\n",
    "    flag=False\n",
    "    percent=0\n",
    "    z=0\n",
    "    for i in range(len(p)):\n",
    "        if p[i]=='/':\n",
    "            percent=int(p[:i])/int(p[i+1:])\n",
    "            flag=True\n",
    "            break\n",
    "    if flag==False:\n",
    "        percent=float(p)\n",
    "    while(temp==True):\n",
    "            per=int(input('몇 %의 신뢰구간? (90, 95, 99만 가능합니다) : ' ))\n",
    "            if per==90:\n",
    "                z=1.645\n",
    "                temp=False\n",
    "            elif per==95:\n",
    "                z=1.96\n",
    "                temp=False\n",
    "            elif per==99:\n",
    "                z=2.576\n",
    "                temp=False\n",
    "            else:\n",
    "                print('-----다시 입력하세요-----')\n",
    "    p_range_a=percent-z*math.sqrt(percent*(1-percent)/n)\n",
    "    p_range_b=percent+z*math.sqrt(percent*(1-percent)/n)\n",
    "    p_mistake=math.sqrt(percent*(1-percent)/n)\n",
    "    print('모비율의 추정 구간은 %.3f 부터 %.3f 이며 신뢰 구간은 %s%%, 오차 구간은 %.3f 입니다.' %(p_range_a,p_range_b,per,p_mistake))\n",
    "    \n",
    "final()"
   ]
  }
 ],
 "metadata": {
  "kernelspec": {
   "display_name": "Python 3",
   "language": "python",
   "name": "python3"
  },
  "language_info": {
   "codemirror_mode": {
    "name": "ipython",
    "version": 3
   },
   "file_extension": ".py",
   "mimetype": "text/x-python",
   "name": "python",
   "nbconvert_exporter": "python",
   "pygments_lexer": "ipython3",
   "version": "3.8.5"
  }
 },
 "nbformat": 4,
 "nbformat_minor": 4
}
